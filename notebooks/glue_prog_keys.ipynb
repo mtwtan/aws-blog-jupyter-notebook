{
  "cells": [
   {
    "cell_type": "code",
    "execution_count": 1,
    "metadata": {
     "scrolled": false
    },
    "outputs": [
     {
      "name": "stdout",
      "output_type": "stream",
      "text": [
       "root\n",
       " |-- meta_data: string (nullable = true)\n",
       " |-- id: integer (nullable = true)\n",
       " |-- entity_type_id: integer (nullable = true)\n",
       " |-- entity_subtype_id: integer (nullable = true)\n",
       " |-- original_source_id: integer (nullable = true)\n",
       " |-- name: string (nullable = true)\n",
       " |-- is_canonical: string (nullable = true)\n",
       " |-- connect_id: integer (nullable = true)\n",
       " |-- promoted_from_entity_id: string (nullable = true)\n",
       " |-- duplicate_of_entity_id: string (nullable = true)\n",
       " |-- unique_hash: string (nullable = true)\n",
       "\n"
      ]
     }
    ],
    "source": [
     "from pyspark.sql import SparkSession\n",
     "import os\n",
     "\n",
     "spark = SparkSession.builder.appName('Ops').config('hive.metastore.client.factory.class, com.amazonaws.glue.catalog.metastore.AWSGlueDataCatalogHiveClientFactory').enableHiveSupport().getOrCreate()\n",
     "\n",
     "AWS_ACCESS_KEY_ID = os.environ['AWS_ACCESS_KEY_ID']\n",
     "AWS_SECRET_ACCESS_KEY = os.environ['AWS_SECRET_ACCESS_KEY']\n",
     "AWS_SESSION_TOKEN = os.environ['AWS_SESSION_TOKEN']\n",
     "\n",
     "spark.sparkContext._jsc.hadoopConfiguration().set('fs.s3a.aws.credentials.provider', 'org.apache.hadoop.fs.s3a.TemporaryAWSCredentialsProvider')\n",
     "spark.sparkContext._jsc.hadoopConfiguration().set('fs.s3a.access.key', AWS_ACCESS_KEY_ID)\n",
     "spark.sparkContext._jsc.hadoopConfiguration().set('fs.s3a.secret.key', AWS_SECRET_ACCESS_KEY)\n",
     "spark.sparkContext._jsc.hadoopConfiguration().set('fs.s3a.session.token', AWS_SESSION_TOKEN)\n",
     "\n",
     "df = spark.read.csv('s3a://< s3 bucket name >/< | delimited csv file >', inferSchema=True,header=True,sep='|')\n",
     "df.printSchema()"
    ]
   },
   {
    "cell_type": "code",
    "execution_count": 2,
    "metadata": {},
    "outputs": [
     {
      "name": "stdout",
      "output_type": "stream",
      "text": [
       "<bound method SparkContext.sparkUser of <SparkContext master=local[*] appName=PySparkShell>>\n"
      ]
     }
    ],
    "source": [
     "import sys\n",
     "from awsglue.transforms import *\n",
     "from awsglue.utils import getResolvedOptions\n",
     "from pyspark.context import SparkContext\n",
     "from awsglue.context import GlueContext\n",
     "from awsglue.job import Job\n",
     "\n",
     "glueContext = GlueContext(SparkContext.getOrCreate())\n",
     "user = spark.sparkContext.sparkUser\n",
     "print(user)"
    ]
   },
   {
    "cell_type": "code",
    "execution_count": 3,
    "metadata": {},
    "outputs": [
     {
      "name": "stdout",
      "output_type": "stream",
      "text": [
       "Count:  1961\n",
       "root\n",
       "|-- family_name: string\n",
       "|-- name: string\n",
       "|-- links: array\n",
       "|    |-- element: struct\n",
       "|    |    |-- note: string\n",
       "|    |    |-- url: string\n",
       "|-- gender: string\n",
       "|-- image: string\n",
       "|-- identifiers: array\n",
       "|    |-- element: struct\n",
       "|    |    |-- scheme: string\n",
       "|    |    |-- identifier: string\n",
       "|-- other_names: array\n",
       "|    |-- element: struct\n",
       "|    |    |-- lang: string\n",
       "|    |    |-- note: string\n",
       "|    |    |-- name: string\n",
       "|-- sort_name: string\n",
       "|-- images: array\n",
       "|    |-- element: struct\n",
       "|    |    |-- url: string\n",
       "|-- given_name: string\n",
       "|-- birth_date: string\n",
       "|-- id: string\n",
       "|-- contact_details: array\n",
       "|    |-- element: struct\n",
       "|    |    |-- type: string\n",
       "|    |    |-- value: string\n",
       "|-- death_date: string\n",
       "\n"
      ]
     }
    ],
    "source": [
     "persons = glueContext.create_dynamic_frame.from_catalog(\n",
     "             database=\"legislators\",\n",
     "             table_name=\"persons_json\")\n",
     "print(\"Count: \", persons.count())\n",
     "persons.printSchema()"
    ]
   },
   {
    "cell_type": "code",
    "execution_count": 4,
    "metadata": {},
    "outputs": [
     {
      "name": "stdout",
      "output_type": "stream",
      "text": [
       "Count:  10439\n",
       "root\n",
       "|-- area_id: string\n",
       "|-- on_behalf_of_id: string\n",
       "|-- organization_id: string\n",
       "|-- role: string\n",
       "|-- person_id: string\n",
       "|-- legislative_period_id: string\n",
       "|-- start_date: string\n",
       "|-- end_date: string\n",
       "\n"
      ]
     }
    ],
    "source": [
     "memberships = glueContext.create_dynamic_frame.from_catalog(\n",
     "                 database=\"legislators\",\n",
     "                 table_name=\"memberships_json\")\n",
     "print(\"Count: \", memberships.count())\n",
     "memberships.printSchema()"
    ]
   },
   {
    "cell_type": "code",
    "execution_count": 5,
    "metadata": {},
    "outputs": [
     {
      "name": "stdout",
      "output_type": "stream",
      "text": [
       "Count:  13\n",
       "root\n",
       "|-- identifiers: array\n",
       "|    |-- element: struct\n",
       "|    |    |-- scheme: string\n",
       "|    |    |-- identifier: string\n",
       "|-- other_names: array\n",
       "|    |-- element: struct\n",
       "|    |    |-- lang: string\n",
       "|    |    |-- note: string\n",
       "|    |    |-- name: string\n",
       "|-- id: string\n",
       "|-- classification: string\n",
       "|-- name: string\n",
       "|-- links: array\n",
       "|    |-- element: struct\n",
       "|    |    |-- note: string\n",
       "|    |    |-- url: string\n",
       "|-- image: string\n",
       "|-- seats: int\n",
       "|-- type: string\n",
       "\n"
      ]
     }
    ],
    "source": [
     "orgs = glueContext.create_dynamic_frame.from_catalog(\n",
     "           database=\"legislators\",\n",
     "           table_name=\"organizations_json\")\n",
     "print(\"Count: \", orgs.count())\n",
     "orgs.printSchema()\n"
    ]
   },
   {
    "cell_type": "code",
    "execution_count": 6,
    "metadata": {},
    "outputs": [
     {
      "name": "stdout",
      "output_type": "stream",
      "text": [
       "+--------------+--------------------+--------------------+--------------------+--------------------+-----+-----------+\n",
       "|classification|              org_id|            org_name|               links|               image|seats|       type|\n",
       "+--------------+--------------------+--------------------+--------------------+--------------------+-----+-----------+\n",
       "|         party|            party/al|                  AL|                null|                null| null|       null|\n",
       "|         party|      party/democrat|            Democrat|[[website, http:/...|https://upload.wi...| null|       null|\n",
       "|         party|party/democrat-li...|    Democrat-Liberal|[[website, http:/...|                null| null|       null|\n",
       "|   legislature|d56acebe-8fdc-47b...|House of Represen...|                null|                null|  435|lower house|\n",
       "|         party|   party/independent|         Independent|                null|                null| null|       null|\n",
       "|         party|party/new_progres...|     New Progressive|[[website, http:/...|https://upload.wi...| null|       null|\n",
       "|         party|party/popular_dem...|    Popular Democrat|[[website, http:/...|                null| null|       null|\n",
       "|         party|    party/republican|          Republican|[[website, http:/...|https://upload.wi...| null|       null|\n",
       "|         party|party/republican-...|Republican-Conser...|[[website, http:/...|                null| null|       null|\n",
       "|         party|      party/democrat|            Democrat|[[website, http:/...|https://upload.wi...| null|       null|\n",
       "|         party|   party/independent|         Independent|                null|                null| null|       null|\n",
       "|         party|    party/republican|          Republican|[[website, http:/...|https://upload.wi...| null|       null|\n",
       "|   legislature|8fa6c3d2-71dc-478...|              Senate|                null|                null|  100|upper house|\n",
       "+--------------+--------------------+--------------------+--------------------+--------------------+-----+-----------+\n",
       "\n"
      ]
     }
    ],
    "source": [
     "orgs = orgs.drop_fields(['other_names',\n",
     "                        'identifiers']).rename_field(\n",
     "                            'id', 'org_id').rename_field(\n",
     "                               'name', 'org_name')\n",
     "orgs.toDF().show()"
    ]
   },
   {
    "cell_type": "code",
    "execution_count": 7,
    "metadata": {},
    "outputs": [
     {
      "name": "stdout",
      "output_type": "stream",
      "text": [
       "+--------------------+\n",
       "|     organization_id|\n",
       "+--------------------+\n",
       "|d56acebe-8fdc-47b...|\n",
       "|8fa6c3d2-71dc-478...|\n",
       "+--------------------+\n",
       "\n"
      ]
     }
    ],
    "source": [
     "memberships.select_fields(['organization_id']).toDF().distinct().show()"
    ]
   },
   {
    "cell_type": "code",
    "execution_count": 8,
    "metadata": {},
    "outputs": [
     {
      "name": "stdout",
      "output_type": "stream",
      "text": [
       "Count:  10439\n",
       "root\n",
       "|-- role: string\n",
       "|-- seats: int\n",
       "|-- org_name: string\n",
       "|-- links: array\n",
       "|    |-- element: struct\n",
       "|    |    |-- note: string\n",
       "|    |    |-- url: string\n",
       "|-- type: string\n",
       "|-- sort_name: string\n",
       "|-- area_id: string\n",
       "|-- images: array\n",
       "|    |-- element: struct\n",
       "|    |    |-- url: string\n",
       "|-- on_behalf_of_id: string\n",
       "|-- other_names: array\n",
       "|    |-- element: struct\n",
       "|    |    |-- lang: string\n",
       "|    |    |-- note: string\n",
       "|    |    |-- name: string\n",
       "|-- name: string\n",
       "|-- birth_date: string\n",
       "|-- organization_id: string\n",
       "|-- gender: string\n",
       "|-- classification: string\n",
       "|-- death_date: string\n",
       "|-- legislative_period_id: string\n",
       "|-- identifiers: array\n",
       "|    |-- element: struct\n",
       "|    |    |-- scheme: string\n",
       "|    |    |-- identifier: string\n",
       "|-- image: string\n",
       "|-- given_name: string\n",
       "|-- start_date: string\n",
       "|-- family_name: string\n",
       "|-- id: string\n",
       "|-- contact_details: array\n",
       "|    |-- element: struct\n",
       "|    |    |-- type: string\n",
       "|    |    |-- value: string\n",
       "|-- end_date: string\n",
       "\n"
      ]
     }
    ],
    "source": [
     "l_history = Join.apply(orgs,\n",
     "                       Join.apply(persons, memberships, 'id', 'person_id'),\n",
     "                       'org_id', 'organization_id').drop_fields(['person_id', 'org_id'])\n",
     "print(\"Count: \", l_history.count())\n",
     "l_history.printSchema()"
    ]
   },
   {
    "cell_type": "code",
    "execution_count": 9,
    "metadata": {},
    "outputs": [
     {
      "data": {
       "text/plain": [
        "<awsglue.dynamicframe.DynamicFrame at 0x7f5341affe10>"
       ]
      },
      "execution_count": 9,
      "metadata": {},
      "output_type": "execute_result"
     }
    ],
    "source": [
     "glueContext.write_dynamic_frame.from_options(frame = l_history,\n",
     "          connection_type = \"s3\",\n",
     "          connection_options = {\"path\": \"s3://< s3 bucket name >/legislators/output-dir/legislator_history\"},\n",
     "          format = \"parquet\")"
    ]
   },
   {
    "cell_type": "code",
    "execution_count": 10,
    "metadata": {},
    "outputs": [],
    "source": [
     "s_history = l_history.toDF().repartition(1)\n",
     "s_history.write.parquet('s3://< s3 bucket name >/legislators/output-dir/legislator_single')"
    ]
   },
   {
    "cell_type": "code",
    "execution_count": 11,
    "metadata": {},
    "outputs": [],
    "source": [
     "l_history.toDF().write.parquet('s3://< s3 bucket name >/legislators/output-dir/legislator_part',\n",
     "                               partitionBy=['org_name'])"
    ]
   },
   {
    "cell_type": "code",
    "execution_count": 12,
    "metadata": {},
    "outputs": [
     {
      "data": {
       "text/plain": [
        "dict_keys(['hist_root', 'hist_root_links', 'hist_root_images', 'hist_root_identifiers', 'hist_root_other_names', 'hist_root_contact_details'])"
       ]
      },
      "execution_count": 12,
      "metadata": {},
      "output_type": "execute_result"
     }
    ],
    "source": [
     "dfc = l_history.relationalize(\"hist_root\", \"s3://< s3 bucket name >/legislators/temp-dir/\")\n",
     "dfc.keys()"
    ]
   },
   {
    "cell_type": "code",
    "execution_count": 13,
    "metadata": {},
    "outputs": [
     {
      "name": "stdout",
      "output_type": "stream",
      "text": [
       "root\n",
       "|-- contact_details: array\n",
       "|    |-- element: struct\n",
       "|    |    |-- type: string\n",
       "|    |    |-- value: string\n",
       "\n",
       "+---+-----+------------------------+-------------------------+\n",
       "| id|index|contact_details.val.type|contact_details.val.value|\n",
       "+---+-----+------------------------+-------------------------+\n",
       "| 10|    0|                     fax|             202-228-3027|\n",
       "| 10|    1|                   phone|             202-224-6542|\n",
       "| 10|    2|                 twitter|               SenSchumer|\n",
       "| 75|    0|                     fax|             202-224-6747|\n",
       "| 75|    1|                   phone|             202-224-3934|\n",
       "+---+-----+------------------------+-------------------------+\n",
       "\n"
      ]
     }
    ],
    "source": [
     "l_history.select_fields('contact_details').printSchema()\n",
     "dfc.select('hist_root_contact_details').toDF().where(\"id = 10 or id = 75\").orderBy(['id','index']).show()"
    ]
   },
   {
    "cell_type": "code",
    "execution_count": 14,
    "metadata": {},
    "outputs": [
     {
      "name": "stdout",
      "output_type": "stream",
      "text": [
       "+--------------------+----------+-----------+---------------+\n",
       "|                  id|given_name|family_name|contact_details|\n",
       "+--------------------+----------+-----------+---------------+\n",
       "|60ae8ebc-b581-44e...|   Charles|    Schumer|             10|\n",
       "|0d69087e-f098-460...|    Daniel|     Inouye|             75|\n",
       "+--------------------+----------+-----------+---------------+\n",
       "\n"
      ]
     }
    ],
    "source": [
     "dfc.select('hist_root').toDF().where(\n",
     "    \"contact_details = 10 or contact_details = 75\").select(\n",
     "       ['id', 'given_name', 'family_name', 'contact_details']).show()"
    ]
   },
   {
    "cell_type": "code",
    "execution_count": 15,
    "metadata": {
     "scrolled": false
    },
    "outputs": [
     {
      "name": "stdout",
      "output_type": "stream",
      "text": [
       "hist_root\n",
       "hist_root_links\n",
       "hist_root_images\n",
       "hist_root_identifiers\n",
       "hist_root_other_names\n",
       "hist_root_contact_details\n"
      ]
     }
    ],
    "source": [
     "for df_name in dfc.keys():\n",
     "    print(df_name)\n",
     "    each_df = dfc.select(df_name)\n",
     "#    print(each_df.count())\n",
     "    s3_path = \"s3a://< s3 bucket name >/legislators/for-redshift/\" + df_name + \"/\"\n",
     "    glueContext.write_dynamic_frame.from_options(frame = each_df,\n",
     "            connection_type = \"s3\",\n",
     "            connection_options = {\"path\": s3_path},\n",
     "            format = 'parquet')"
    ]
   },
   {
    "cell_type": "code",
    "execution_count": null,
    "metadata": {},
    "outputs": [],
    "source": [
     "\n"
    ]
   }
  ],
  "metadata": {
   "kernelspec": {
    "display_name": "Glue PySpark",
    "language": "python",
    "name": "gluepyspark"
   },
   "language_info": {
    "codemirror_mode": {
     "name": "ipython",
     "version": 3
    },
    "file_extension": ".py",
    "mimetype": "text/x-python",
    "name": "python",
    "nbconvert_exporter": "python",
    "pygments_lexer": "ipython3",
    "version": "3.7.6"
   }
  },
  "nbformat": 4,
  "nbformat_minor": 4
 }
 